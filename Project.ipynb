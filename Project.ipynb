{
 "cells": [
  {
   "cell_type": "markdown",
   "metadata": {},
   "source": [
    "# Harry Styles Quiz\n",
    "##### By Thi Nguyen\n",
    "This project creates a bot that will ask 10 multiple choice questions relating to the singer Harry Styles in order to guess if the user is a Harry Styles fan or not. The user will start the quiz by typing in \"start\" or \"begin\" to execute the quiz. For each question answered correctly, +1 will be added to a counter set to 0. If the user selects anything but \"a\", \"b\", or \"c\", they will be asked to select a correct input. When the quiz is completed and the counter is less than 5, the user is most likely not a Harry Styles fan. If the counter is equal to 5 or greater, they are probably a Harry Styles fan."
   ]
  },
  {
   "cell_type": "code",
   "execution_count": null,
   "metadata": {},
   "outputs": [],
   "source": [
    "# From the Harry module import the class Question, and the functions start_quiz, results, and evaluate_quiz\n",
    "from Harry import Question, start_quiz, results, evaluate_quiz"
   ]
  },
  {
   "cell_type": "code",
   "execution_count": null,
   "metadata": {},
   "outputs": [],
   "source": [
    "# A list of 10 questions for the quiz with answer choices\n",
    "questions_asked = [\n",
    "    '1. When you hear the word kiwi which one of these comes to mind?\\n(a) The Harry Styles song!\\n(b) The green and brown fruit!\\n(c) The Australian bird!\\n\\n',\n",
    "    '2. When is Harry Styles birthday?\\n(a) October 31st, 1996\\n(b) December 3rd, 1995\\n(c) February 1st, 1994\\n\\n',\n",
    "    '3. What color are Harry Styles eyes?\\n(a) Green!\\n(b) Blue!\\n(c) Brown\\n\\n',\n",
    "    '4. Which boyband was Harry Styles originally apart of?\\n(a) BTS\\n(b) Big Time Rush\\n(c) One Direction\\n\\n',\n",
    "    '5. Where was Harry Styles born?\\n(a) Paris, France\\n(b) Holmes Chapel, England\\n(c) Melbourne, Australia\\n\\n',\n",
    "    '6. Harry Styles used to work\\n(a) As a dog walker!\\n(b) In a bakery!\\n(c) As a firefighter!\\n\\n',\n",
    "    '7. How many tattoos does Harry Styles have?\\n(a) 55\\n(b) None\\n(c) 1\\n\\n',\n",
    "    '8. When does the newest Harry Styles album come out?\\n(a) There is no new album :(\\n(b) December 13th, 2019\\n(c) January 1st, 2020\\n\\n',\n",
    "    '9. Which is a song on the first Harry Styles album?\\n(a) Lights Up\\n(b) Sign of the Times\\n(c) No Control\\n\\n',\n",
    "    '10. Harry Styles slogan is\\n(a) Treat People With Kindness\\n(b) Do You Know Who You Are?\\n(c) What Do You Mean?\\n\\n'\n",
    "]"
   ]
  },
  {
   "cell_type": "code",
   "execution_count": null,
   "metadata": {},
   "outputs": [],
   "source": [
    "# An array that calls on the Question class\n",
    "# It indexes through the questions_asked list as the first parameter of \"asked\"\n",
    "# The correct answer is given as a string as the second parameter \"answer\"\n",
    "# It creates objects\n",
    "questions_array = [\n",
    "    Question(questions_asked[0], 'a'),\n",
    "    Question(questions_asked[1], 'c'),\n",
    "    Question(questions_asked[2], 'a'),\n",
    "    Question(questions_asked[3], 'c'),\n",
    "    Question(questions_asked[4], 'b'),\n",
    "    Question(questions_asked[5], 'b'),\n",
    "    Question(questions_asked[6], 'a'),\n",
    "    Question(questions_asked[7], 'b'),\n",
    "    Question(questions_asked[8], 'b'),\n",
    "    Question(questions_asked[9], 'a'),\n",
    "]"
   ]
  },
  {
   "cell_type": "code",
   "execution_count": null,
   "metadata": {},
   "outputs": [],
   "source": [
    "# Uses all the functions created to execute the quiz\n",
    "list_of_user_choices = Question.input_quiz(questions_array)\n",
    "final_score = evaluate_quiz(list_of_user_choices, questions_array)\n",
    "results(final_score)"
   ]
  }
 ],
 "metadata": {
  "kernelspec": {
   "display_name": "Python 3",
   "language": "python",
   "name": "python3"
  },
  "language_info": {
   "codemirror_mode": {
    "name": "ipython",
    "version": 3
   },
   "file_extension": ".py",
   "mimetype": "text/x-python",
   "name": "python",
   "nbconvert_exporter": "python",
   "pygments_lexer": "ipython3",
   "version": "3.7.3"
  }
 },
 "nbformat": 4,
 "nbformat_minor": 2
}
